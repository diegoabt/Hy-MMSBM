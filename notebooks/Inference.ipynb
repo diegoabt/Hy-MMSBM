{
 "cells": [
  {
   "cell_type": "code",
   "execution_count": 1,
   "id": "ee4c2b8e",
   "metadata": {},
   "outputs": [],
   "source": [
    "import sys\n",
    "\n",
    "import numpy as np\n",
    "\n",
    "sys.path.append(\"..\")\n",
    "from src.model.model import HyMMSBM\n",
    "from src.data.data_io import PREPROCESSED_DATASETS, load_data"
   ]
  },
  {
   "cell_type": "markdown",
   "id": "d8150adf",
   "metadata": {},
   "source": [
    "# Training the *Hy-MMSBM* model"
   ]
  },
  {
   "cell_type": "markdown",
   "id": "298785a6",
   "metadata": {},
   "source": [
    "In this notebook we show how to train the *Hy-MMSBM* model on a given dataset. \n",
    "\n",
    "While here we show the inner workings of our implementation, a direct command line interface for training the model \n",
    "is available through `main_inference.py`, which allows to abstract from the underlying Python code. \n",
    "\n",
    "To run such code directly, we refer to the explanations in `README.md`."
   ]
  },
  {
   "cell_type": "markdown",
   "id": "05928d22",
   "metadata": {},
   "source": [
    "## Data loading"
   ]
  },
  {
   "cell_type": "code",
   "execution_count": 2,
   "id": "1d22037d",
   "metadata": {},
   "outputs": [],
   "source": [
    "# If you did not download the data yet, do so by running the following command\n",
    "# !python ../download_data.py"
   ]
  },
  {
   "cell_type": "markdown",
   "id": "9db15960",
   "metadata": {},
   "source": [
    "Load a real hypergraph. The internal representation used by our code is an instance of `Hypergraph` (see `src.data.representation`). \n",
    "\n",
    "We suggest loading the data via the `load_data` function, which works with three types of inputs:\n",
    "- the name of one of the preprocessed real hypergraphs we used in our experimental analyses;\n",
    "- the paths to two *.txt* files containing the hyperedge list and weight list respectively;\n",
    "- the path to a [pickle](https://docs.python.org/3/library/pickle.html) file containing an instance of `Hypergraph`.\n",
    "\n",
    "We suggest the first option for the real datasets we make available, the second for custom datasets.\n",
    "\n",
    "For example, the following three commands load the same hypergraph:"
   ]
  },
  {
   "cell_type": "markdown",
   "id": "04bc42c5",
   "metadata": {},
   "source": [
    "```python\n",
    "load_data(real_dataset=\"justice\")\n",
    "\n",
    "load_data(\n",
    "    hye_file=\"../data/examples/justice_dataset/hyperedges.txt\",\n",
    "    weight_file=\"../data/examples/justice_dataset/weights.txt\",\n",
    ")\n",
    "\n",
    "load_data(\n",
    "    pickle_file=\"../data/examples/justice_dataset/justice.pkl\",\n",
    ")\n",
    "```"
   ]
  },
  {
   "cell_type": "markdown",
   "id": "204ada1d",
   "metadata": {},
   "source": [
    "A complete list of the available real datasets is provided here:"
   ]
  },
  {
   "cell_type": "code",
   "execution_count": 3,
   "id": "7385b454",
   "metadata": {},
   "outputs": [
    {
     "data": {
      "text/plain": [
       "['arxiv',\n",
       " 'amazon_5core',\n",
       " 'curated_gene_disease_associations',\n",
       " 'enron-email',\n",
       " 'high_school',\n",
       " 'hospital',\n",
       " 'house-bills',\n",
       " 'house-committees',\n",
       " 'justice',\n",
       " 'primary_school',\n",
       " 'senate-bills',\n",
       " 'senate-committees',\n",
       " 'trivago-clicks_2core',\n",
       " 'trivago-clicks_5core',\n",
       " 'trivago-clicks_10core',\n",
       " 'walmart-trips_2core',\n",
       " 'walmart-trips_3core',\n",
       " 'walmart-trips_4core',\n",
       " 'workspace1']"
      ]
     },
     "execution_count": 3,
     "metadata": {},
     "output_type": "execute_result"
    }
   ],
   "source": [
    "PREPROCESSED_DATASETS"
   ]
  },
  {
   "cell_type": "markdown",
   "id": "6bdc249d",
   "metadata": {},
   "source": [
    "Let's load the justice dataset."
   ]
  },
  {
   "cell_type": "code",
   "execution_count": 4,
   "id": "2a8a3fb6",
   "metadata": {},
   "outputs": [],
   "source": [
    "justice_hyg = load_data(real_dataset=\"justice\")"
   ]
  },
  {
   "cell_type": "markdown",
   "id": "555378e0",
   "metadata": {},
   "source": [
    "## Model training"
   ]
  },
  {
   "cell_type": "markdown",
   "id": "0ee23342",
   "metadata": {},
   "source": [
    "Training the model simply requires specifying the number $K$ of communities and whether the model needs to be assortative."
   ]
  },
  {
   "cell_type": "code",
   "execution_count": 5,
   "id": "45242cc6",
   "metadata": {},
   "outputs": [
    {
     "name": "stdout",
     "output_type": "stream",
     "text": [
      "CPU times: user 15.1 ms, sys: 2.32 ms, total: 17.4 ms\n",
      "Wall time: 15.8 ms\n"
     ]
    }
   ],
   "source": [
    "%%time\n",
    "\n",
    "model = HyMMSBM(\n",
    "    K=2,\n",
    "    assortative=False,\n",
    ")\n",
    "model.fit(justice_hyg)"
   ]
  },
  {
   "cell_type": "markdown",
   "id": "ffacf0c3",
   "metadata": {},
   "source": [
    "After inference, the parameters can be retrieved as attributes of the model."
   ]
  },
  {
   "cell_type": "code",
   "execution_count": 6,
   "id": "29f9a670",
   "metadata": {},
   "outputs": [
    {
     "data": {
      "text/plain": [
       "array([[9.13714317e-02, 4.15569806e+00],\n",
       "       [2.33500300e-01, 1.96606102e-01],\n",
       "       [3.85680385e-02, 5.45674009e+00],\n",
       "       [1.93659181e-04, 8.90207793e-02],\n",
       "       [1.90403422e-01, 7.08358947e-02]])"
      ]
     },
     "execution_count": 6,
     "metadata": {},
     "output_type": "execute_result"
    }
   ],
   "source": [
    "model.u[:5]"
   ]
  },
  {
   "cell_type": "code",
   "execution_count": 7,
   "id": "35190ffa",
   "metadata": {},
   "outputs": [
    {
     "data": {
      "text/plain": [
       "array([[32.16840873,  0.25994342],\n",
       "       [ 0.25994342,  8.72325656]])"
      ]
     },
     "execution_count": 7,
     "metadata": {},
     "output_type": "execute_result"
    }
   ],
   "source": [
    "model.w"
   ]
  },
  {
   "cell_type": "markdown",
   "id": "c55f4117",
   "metadata": {},
   "source": [
    "#### Additional training options\n",
    "\n",
    "Other options can be specified:\n",
    "- in the model initialization, one can specify:\n",
    "    - the maximum hyperedge size (which is otherwise inferred once a hypergraph is observed).\n",
    "    - the priors for $w$ and $u$, as rates of exponential distributions. These can be specified as non-negative numbers (priors equal to 0 correspond to no prior), or as numpy arrays if a non-uniform prior is expected.\n",
    "- at inference time, one can specify the number of EM steps.\n",
    "\n",
    "For example:"
   ]
  },
  {
   "cell_type": "code",
   "execution_count": 8,
   "id": "609b35b4",
   "metadata": {},
   "outputs": [
    {
     "name": "stdout",
     "output_type": "stream",
     "text": [
      "CPU times: user 539 ms, sys: 2.89 ms, total: 542 ms\n",
      "Wall time: 541 ms\n"
     ]
    }
   ],
   "source": [
    "%%time\n",
    "\n",
    "model = HyMMSBM(\n",
    "    K=2,\n",
    "    assortative=True,\n",
    "    max_hye_size=15,\n",
    "    u_prior=1.,\n",
    "    w_prior=10.,\n",
    ")\n",
    "model.fit(\n",
    "    justice_hyg,\n",
    "    n_iter=500,\n",
    ")"
   ]
  },
  {
   "cell_type": "markdown",
   "id": "172bf0ec",
   "metadata": {},
   "source": [
    "Notice that, in `main_training.py` and all our experiments, we repeat the procedure above different times (in the script, specified as the command line argument `--training_rounds`) and only return the model realization with the highest log-likelihood.\n",
    "\n",
    "As a final option, if either $w$ or $u$ are provided at initialization, these are considered fixed parameters and will not be inferred. For example, one can fix the affinity matrix and only infer the community assigments $u$:"
   ]
  },
  {
   "cell_type": "code",
   "execution_count": 9,
   "id": "9ae83266",
   "metadata": {},
   "outputs": [],
   "source": [
    "fixed_w = np.eye(2)\n",
    "\n",
    "model = HyMMSBM(\n",
    "    K=2,\n",
    "    w=fixed_w,\n",
    "    u_prior=0.,\n",
    ")\n",
    "model.fit(\n",
    "    justice_hyg,\n",
    "    n_iter=500,\n",
    ")"
   ]
  },
  {
   "cell_type": "markdown",
   "id": "dde8a2a0",
   "metadata": {},
   "source": [
    "The matrix stays the same, but the communities assignments have been inferred normally:"
   ]
  },
  {
   "cell_type": "code",
   "execution_count": 10,
   "id": "ca20c32f",
   "metadata": {},
   "outputs": [
    {
     "data": {
      "text/plain": [
       "True"
      ]
     },
     "execution_count": 10,
     "metadata": {},
     "output_type": "execute_result"
    }
   ],
   "source": [
    "model.w is fixed_w"
   ]
  },
  {
   "cell_type": "code",
   "execution_count": 11,
   "id": "58669449",
   "metadata": {},
   "outputs": [
    {
     "data": {
      "text/plain": [
       "array([[0.        , 1.34752201],\n",
       "       [0.        , 0.25226192],\n",
       "       [0.        , 1.62877116],\n",
       "       [0.        , 0.02700151],\n",
       "       [0.        , 0.16165644]])"
      ]
     },
     "execution_count": 11,
     "metadata": {},
     "output_type": "execute_result"
    }
   ],
   "source": [
    "model.u[:5]"
   ]
  }
 ],
 "metadata": {
  "kernelspec": {
   "display_name": "Python 3",
   "language": "python",
   "name": "python3"
  },
  "language_info": {
   "codemirror_mode": {
    "name": "ipython",
    "version": 3
   },
   "file_extension": ".py",
   "mimetype": "text/x-python",
   "name": "python",
   "nbconvert_exporter": "python",
   "pygments_lexer": "ipython3",
   "version": "3.8.3"
  }
 },
 "nbformat": 4,
 "nbformat_minor": 5
}
