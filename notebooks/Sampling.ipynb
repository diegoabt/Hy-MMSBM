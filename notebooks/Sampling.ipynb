{
 "cells": [
  {
   "cell_type": "code",
   "execution_count": 1,
   "id": "766dc7c5",
   "metadata": {},
   "outputs": [],
   "source": [
    "import sys\n",
    "\n",
    "import numpy as np\n",
    "import matplotlib.pyplot as plt\n",
    "\n",
    "sys.path.append(\"..\")\n",
    "from src.model.model import HyMMSBM\n",
    "from src.data.data_io import load_data"
   ]
  },
  {
   "cell_type": "markdown",
   "id": "50fb022f",
   "metadata": {},
   "source": [
    "# Sampling from the *Hy-MMSBM* generative model"
   ]
  },
  {
   "cell_type": "markdown",
   "id": "b244a9ce",
   "metadata": {},
   "source": [
    "In this notebook we show how to sample synthetic data from *Hy-MMSBM* generative model.\n",
    "\n",
    "While here we show the inner workings of our implementation, a direct command line interface for training the \n",
    "model is available through `main_sampling.py`, which allows to abstract from the underlying Python code. \n",
    "\n",
    "To run such code directly, we refer to the explanations in `README.md`."
   ]
  },
  {
   "cell_type": "markdown",
   "id": "bb36cf6e",
   "metadata": {},
   "source": [
    "## Vanilla sampling from the generative model"
   ]
  },
  {
   "cell_type": "markdown",
   "id": "0d347c97",
   "metadata": {},
   "source": [
    "The most vanilla type of sampling can be performed by only providing the affinity matrix $w$ and community assignments $u$, and sampling from the distribution $p(A; w, u)$.\n",
    "\n",
    "For example, assume we want to sample a hypergraph with $N=60$ nodes and $K=3$ equally-sized assortative communities. In addition, we need to decide the maximum size of the hyperedges that we want to generate. Then, we can obtain a synthetic hypegraph as following."
   ]
  },
  {
   "cell_type": "code",
   "execution_count": 2,
   "id": "14dd8c5c",
   "metadata": {},
   "outputs": [
    {
     "data": {
      "image/png": "[encoded data removed]",
      "text/plain": [
       "<Figure size 360x360 with 2 Axes>"
      ]
     },
     "metadata": {
      "needs_background": "light"
     },
     "output_type": "display_data"
    }
   ],
   "source": [
    "# Diagonal affinity matrix, which results in an assortative structure\n",
    "w = np.eye(3)\n",
    "\n",
    "plt.matshow(w, aspect='auto', cmap='Blues')\n",
    "plt.gcf().set_size_inches(5, 5)\n",
    "plt.title(r'Affinity matrix $w$', fontsize=17)\n",
    "plt.xlabel(r'$K$', fontsize=15)\n",
    "plt.ylabel(r'$K$', fontsize=15)\n",
    "plt.xticks(ticks=[0,1,2], labels=[1,2,3], size=12)\n",
    "plt.tick_params(axis='x', bottom=True, top=False, labelbottom=True, labeltop=False)\n",
    "plt.colorbar()\n",
    "plt.show()"
   ]
  },
  {
   "cell_type": "code",
   "execution_count": 3,
   "id": "b1f66120",
   "metadata": {},
   "outputs": [
    {
     "data": {
      "image/png": "[encoded data removed]",
      "text/plain": [
       "<Figure size 360x504 with 2 Axes>"
      ]
     },
     "metadata": {
      "needs_background": "light"
     },
     "output_type": "display_data"
    }
   ],
   "source": [
    "# Community assignments\n",
    "u = np.zeros((60, 3))\n",
    "u[:20, 0] = 1\n",
    "u[20:40, 1] = 1\n",
    "u[40:, 2] = 1\n",
    "\n",
    "plt.matshow(u, aspect='auto', cmap='Blues')\n",
    "plt.gcf().set_size_inches(5, 7)\n",
    "plt.title(r'Community assignments $u$', fontsize=17)\n",
    "plt.xlabel(r'$K$', fontsize=15)\n",
    "plt.ylabel(r'$N$', fontsize=15)\n",
    "plt.xticks(ticks=[0,1,2], labels=[1,2,3], size=12)\n",
    "plt.tick_params(axis='x', bottom=True, top=False, labelbottom=True, labeltop=False)\n",
    "plt.colorbar()\n",
    "plt.show()"
   ]
  },
  {
   "cell_type": "markdown",
   "id": "8630f3a2",
   "metadata": {},
   "source": [
    "Notice that the generative parameters are very general: \n",
    "- the affinity $w$ can be any symmetric $K \\times K$ non-nagative matrix \n",
    "- the assignments $u$ can be any $N \\times K$ non-negative matrix, allowing for mixed-membership as well\n",
    "\n",
    "Now initialize the model."
   ]
  },
  {
   "cell_type": "code",
   "execution_count": 4,
   "id": "0a0424b0",
   "metadata": {},
   "outputs": [],
   "source": [
    "model = HyMMSBM(\n",
    "    u=u, \n",
    "    w=w,\n",
    "    max_hye_size=10\n",
    ")\n",
    "sample_generator = model.sample()"
   ]
  },
  {
   "cell_type": "markdown",
   "id": "ab391b0f",
   "metadata": {},
   "source": [
    "Now start the sampling. Recall that the most general form of sampling work as following:\n",
    "- sample the degree and dimension sequences \n",
    "- arrange them in a first hypergraph proposal\n",
    "- mix the hyperedges of the initial proposal via a Markov Chain, and continuously return the results at different steps of the chain\n",
    "\n",
    "Since the Markov Chain can be continuously mixed, the number of samples is unlimited and is represented by a generator, as opposed to a finite-length list. "
   ]
  },
  {
   "cell_type": "code",
   "execution_count": 5,
   "id": "ff57db9f",
   "metadata": {},
   "outputs": [
    {
     "name": "stdout",
     "output_type": "stream",
     "text": [
      "Getting sample number: 0\n"
     ]
    },
    {
     "name": "stderr",
     "output_type": "stream",
     "text": [
      "../src/model/model.py:280: RuntimeWarning: divide by zero encountered in log\n",
      "  log_poisson = np.log(\n"
     ]
    },
    {
     "name": "stdout",
     "output_type": "stream",
     "text": [
      "Getting sample number: 1\n",
      "Getting sample number: 2\n",
      "Getting sample number: 3\n",
      "Getting sample number: 4\n",
      "Getting sample number: 5\n",
      "Getting sample number: 6\n",
      "Getting sample number: 7\n",
      "Getting sample number: 8\n",
      "Getting sample number: 9\n",
      "Getting another couple of samples...\n",
      "CPU times: user 5.38 s, sys: 113 ms, total: 5.49 s\n",
      "Wall time: 5.41 s\n"
     ]
    }
   ],
   "source": [
    "%%time\n",
    "\n",
    "for i in range(10):\n",
    "    print(\"Getting sample number:\", i)\n",
    "    new_sample, _ = next(sample_generator)\n",
    "\n",
    "# Get some more samples later in the code\n",
    "print(\"Getting another couple of samples...\")\n",
    "_ = next(sample_generator)\n",
    "_ = next(sample_generator)"
   ]
  },
  {
   "cell_type": "markdown",
   "id": "34697bda",
   "metadata": {},
   "source": [
    "Notice, however, that all the samples generated from the same call of `HyMMSBM.sample` will have the same degree and size sequence. To have a completely new sample, a new call to the method is needed.\n",
    "\n",
    "The obtained samples are a `Hypergraph` instance, with various attributes, e.g."
   ]
  },
  {
   "cell_type": "code",
   "execution_count": 6,
   "id": "1d785947",
   "metadata": {},
   "outputs": [
    {
     "name": "stdout",
     "output_type": "stream",
     "text": [
      "Extracted sample with \n",
      "N=60, E=829, max hyperedge size=10\n",
      "\n",
      "Dimension sequence {3: 202, 4: 89, 5: 66, 6: 35, 7: 28, 8: 26, 9: 10, 10: 16, 2: 357}\n",
      "\n",
      "We can also extract incidence matrix and weight array, which are instances of:\n",
      " <class 'scipy.sparse._arrays.csr_array'> \n",
      " <class 'numpy.ndarray'>\n"
     ]
    }
   ],
   "source": [
    "sample, _ = next(sample_generator)\n",
    "\n",
    "print(f\"Extracted sample with \\nN={sample.N}, E={sample.E}, max hyperedge size={sample.max_hye_size}\")\n",
    "print(\"\\nDimension sequence\", sample.hye_count)\n",
    "print(\n",
    "    \"\\nWe can also extract incidence matrix and weight array, which are instances of:\\n\", \n",
    "    type(sample.get_binary_incidence_matrix()),\n",
    "    \"\\n\",\n",
    "    type(sample.get_hye_weights()),\n",
    ")"
   ]
  },
  {
   "cell_type": "markdown",
   "id": "257c0b5b",
   "metadata": {},
   "source": [
    "## Conditioning the sampling with additional inputs"
   ]
  },
  {
   "cell_type": "markdown",
   "id": "ed40981a",
   "metadata": {},
   "source": [
    "There are two main ways to further condition the sampling procedure:\n",
    "- by providing a degree sequence or a size sequence (or both);\n",
    "- by providing a hypergraph dataset to condition on."
   ]
  },
  {
   "cell_type": "markdown",
   "id": "62d91daa",
   "metadata": {},
   "source": [
    "#### 1. Providing input sequences"
   ]
  },
  {
   "cell_type": "markdown",
   "id": "5d4e30fe",
   "metadata": {},
   "source": [
    "The degree sequence is a numpy array of length $N$, specifying the degree of each node. \n",
    "The dimension sequence is a dictionary with key-value pairs `{size: count}` specifying the number of the hyperedges of every given size.\n",
    "\n",
    "If one of these sequences is provided, then all the samples will respect it *exactly*. If both are provided, then one is modified in case they are not compatible. However, in case both are provided and come from an already existing hypergraph, we suggest directly providing the hypergraph as input (see next section).\n",
    "\n",
    "For example, to provide the degree sequence:"
   ]
  },
  {
   "cell_type": "code",
   "execution_count": 7,
   "id": "45452f35",
   "metadata": {},
   "outputs": [
    {
     "name": "stdout",
     "output_type": "stream",
     "text": [
      "Does the sample have same degree sequence as the input one? True\n"
     ]
    }
   ],
   "source": [
    "deg_seq = np.random.randint(low=3, high=20, size=60)\n",
    "\n",
    "model = HyMMSBM(\n",
    "    u=u, \n",
    "    w=w,\n",
    "    max_hye_size=10\n",
    ")\n",
    "sample_generator = model.sample(deg_seq=deg_seq)\n",
    "sample, _ = next(sample_generator)\n",
    "\n",
    "print(\n",
    "    \"Does the sample have same degree sequence as the input one?\", \n",
    "    np.all(sample.get_binary_incidence_matrix().sum(axis=1) == deg_seq)\n",
    ")"
   ]
  },
  {
   "cell_type": "markdown",
   "id": "25662479",
   "metadata": {},
   "source": [
    "Or the dimension sequence:"
   ]
  },
  {
   "cell_type": "code",
   "execution_count": 8,
   "id": "92c36ee5",
   "metadata": {
    "scrolled": true
   },
   "outputs": [
    {
     "name": "stdout",
     "output_type": "stream",
     "text": [
      "Does the sample have same dimension sequence as the input one? True\n"
     ]
    }
   ],
   "source": [
    "# 70 hyperedges of size 2, 50 hyperedges of size 3, etc...\n",
    "dim_seq = {\n",
    "    2: 70, \n",
    "    3: 50,\n",
    "    4: 40,\n",
    "    7: 10,\n",
    "    9: 20\n",
    "}\n",
    "\n",
    "model = HyMMSBM(\n",
    "    u=u, \n",
    "    w=w,\n",
    "    max_hye_size=10\n",
    ")\n",
    "sample_generator = model.sample(dim_seq=dim_seq)\n",
    "sample, _ = next(sample_generator)\n",
    "\n",
    "print(\n",
    "    \"Does the sample have same dimension sequence as the input one?\", \n",
    "    sample.hye_count == dim_seq\n",
    ")"
   ]
  },
  {
   "cell_type": "markdown",
   "id": "baf287fa",
   "metadata": {},
   "source": [
    "#### 2. Providing an input hypergraph"
   ]
  },
  {
   "cell_type": "markdown",
   "id": "08bdcd9c",
   "metadata": {},
   "source": [
    "Providing a hypergraph as input is statically equivalent to providing its degree and size sequence, however computationally much cheaper. For the data loading options, we refer to the accompanying inference notebook.\n",
    "\n",
    "For example, one can condition on the Justice dataset but use arbitrary $w, u$. In this case, we provide the initial configuration of the Markov Chain as the list of hyperedges observed in the data."
   ]
  },
  {
   "cell_type": "code",
   "execution_count": 9,
   "id": "124e7f24",
   "metadata": {},
   "outputs": [],
   "source": [
    "justice_data = load_data(real_dataset=\"justice\")\n",
    "initial_config = [set(hye) for hye, _ in justice_data]\n",
    "\n",
    "N = justice_data.N\n",
    "K = 2  # arbitrarily chosen\n",
    "\n",
    "w = np.eye(K)\n",
    "# Random hard community assignments\n",
    "u = np.zeros((N, K))\n",
    "u[np.arange(N), np.random.randint(0, K, size=N)] = 1  "
   ]
  },
  {
   "cell_type": "code",
   "execution_count": 10,
   "id": "07caa52e",
   "metadata": {},
   "outputs": [
    {
     "name": "stdout",
     "output_type": "stream",
     "text": [
      "CPU times: user 898 ms, sys: 5.23 ms, total: 903 ms\n",
      "Wall time: 902 ms\n"
     ]
    }
   ],
   "source": [
    "%%time\n",
    "model = HyMMSBM(\n",
    "    u=u, \n",
    "    w=w,\n",
    ")\n",
    "sample_generator = model.sample(initial_config=initial_config)\n",
    "_ = next(sample_generator)"
   ]
  },
  {
   "cell_type": "markdown",
   "id": "f9e33049",
   "metadata": {},
   "source": [
    "## Pre-adjusting the expected statistics"
   ]
  },
  {
   "cell_type": "markdown",
   "id": "00228b03",
   "metadata": {},
   "source": [
    "Many times, providing $w, u$ has no clear implications on the expected statistics of the model. \n",
    "\n",
    "For example, we might want to rescale the parameters so as to obtain a given expected degree. This can be done prior to sampling, since the expected degree can be computed in closed form, and is linear in $w$ (or quadratic in $u$).\n",
    "\n",
    "Take once again the simple case of three equally-sized and assortative communities."
   ]
  },
  {
   "cell_type": "code",
   "execution_count": 11,
   "id": "41ff50f4",
   "metadata": {},
   "outputs": [
    {
     "data": {
      "text/plain": [
       "53.75039682539682"
      ]
     },
     "execution_count": 11,
     "metadata": {},
     "output_type": "execute_result"
    }
   ],
   "source": [
    "# Diagonal affinity matrix\n",
    "w = np.eye(3)\n",
    "\n",
    "# Community assignments\n",
    "u = np.zeros((60, 3))\n",
    "u[:20, 0] = 1\n",
    "u[20:40, 1] = 1\n",
    "u[40:, 2] = 1\n",
    "\n",
    "model = HyMMSBM(\n",
    "    u=u, \n",
    "    w=w,\n",
    "    max_hye_size=10\n",
    ")\n",
    "orig_deg = model.expected_degree()\n",
    "orig_deg"
   ]
  },
  {
   "cell_type": "markdown",
   "id": "5d693509",
   "metadata": {},
   "source": [
    "To obtain, for example, an expected degree of 100, one can simply rescale $w$ or $u$."
   ]
  },
  {
   "cell_type": "code",
   "execution_count": 12,
   "id": "7575e0e4",
   "metadata": {},
   "outputs": [
    {
     "name": "stdout",
     "output_type": "stream",
     "text": [
      "Expected degree when rescaling w: 100.0\n",
      "Expected degree when rescaling u: 100.00000000000001\n"
     ]
    }
   ],
   "source": [
    "new_deg = 100\n",
    "\n",
    "rescaled_w = w / orig_deg * new_deg\n",
    "new_w_model = model = HyMMSBM(\n",
    "    u=u, \n",
    "    w=rescaled_w,\n",
    "    max_hye_size=10\n",
    ")\n",
    "print(\"Expected degree when rescaling w:\", new_w_model.expected_degree())\n",
    "\n",
    "rescaled_u = u / np.sqrt(orig_deg) * np.sqrt(new_deg)\n",
    "new_u_model = HyMMSBM(\n",
    "    u=rescaled_u, \n",
    "    w=w,\n",
    "    max_hye_size=10\n",
    ")\n",
    "print(\"Expected degree when rescaling u:\", new_u_model.expected_degree())"
   ]
  }
 ],
 "metadata": {
  "kernelspec": {
   "display_name": "Python 3",
   "language": "python",
   "name": "python3"
  },
  "language_info": {
   "codemirror_mode": {
    "name": "ipython",
    "version": 3
   },
   "file_extension": ".py",
   "mimetype": "text/x-python",
   "name": "python",
   "nbconvert_exporter": "python",
   "pygments_lexer": "ipython3",
   "version": "3.8.3"
  }
 },
 "nbformat": 4,
 "nbformat_minor": 5
}
